{
 "cells": [
  {
   "cell_type": "markdown",
   "metadata": {
    "application/vnd.databricks.v1+cell": {
     "cellMetadata": {
      "byteLimit": 2048000,
      "rowLimit": 10000
     },
     "inputWidgets": {},
     "nuid": "7618bc9a-9127-4b64-a444-99da4d77fe90",
     "showTitle": false,
     "title": ""
    }
   },
   "source": [
    "#Running Our Auto Loader Bronze Layer\n",
    "\n",
    "\n"
   ]
  },
  {
   "cell_type": "code",
   "execution_count": 0,
   "metadata": {
    "application/vnd.databricks.v1+cell": {
     "cellMetadata": {
      "byteLimit": 2048000,
      "rowLimit": 10000
     },
     "inputWidgets": {},
     "nuid": "c78ce3f4-133c-4bb7-ab5d-f5ae6fcda196",
     "showTitle": false,
     "title": ""
    }
   },
   "outputs": [],
   "source": [
    "%Python\n",
    "\n",
    "source_data_loc = \"dbfs:/FileStore/tables/TraderJoesRevenue/Files/\"\n",
    "target_data_loc = \"dbfs:/FileStore/tables/TraderJoesRevenue/bronze_tj_fact_revenue\"\n",
    "checkpoints_loc = \"dbfs:/FileStore/tables/TraderJoesRevenue/checkpoints/\"\n",
    "schema_loc = \"dbfs:/FileStore/tables/TraderJoesRevenue/schema/\"\n",
    "\n",
    "from pyspark.sql.functions import lit, current_date"
   ]
  },
  {
   "cell_type": "code",
   "execution_count": 0,
   "metadata": {
    "application/vnd.databricks.v1+cell": {
     "cellMetadata": {
      "byteLimit": 2048000,
      "rowLimit": 10000
     },
     "inputWidgets": {},
     "nuid": "cadc7681-4eae-43e6-a43f-415c2362a29a",
     "showTitle": false,
     "title": ""
    }
   },
   "outputs": [
    {
     "output_type": "display_data",
     "data": {
      "text/plain": [
       "\u001B[0;36m  File \u001B[0;32m<command-2660168253538715>, line 15\u001B[0;36m\u001B[0m\n",
       "\u001B[0;31m    .start(target_data_loc)\u001B[0m\n",
       "\u001B[0m    ^\u001B[0m\n",
       "\u001B[0;31mIndentationError\u001B[0m\u001B[0;31m:\u001B[0m unexpected indent\n"
      ]
     },
     "metadata": {
      "application/vnd.databricks.v1+output": {
       "addedWidgets": {},
       "arguments": {},
       "datasetInfos": [],
       "jupyterProps": {
        "ename": "IndentationError",
        "evalue": "unexpected indent (command-2660168253538715-2171549859, line 15)"
       },
       "metadata": {
        "errorSummary": "<span class='ansi-red-fg'>IndentationError</span>: unexpected indent (command-2660168253538715-2171549859, line 15)"
       },
       "removedWidgets": [],
       "sqlProps": null,
       "stackFrames": [
        "\u001B[0;36m  File \u001B[0;32m<command-2660168253538715>, line 15\u001B[0;36m\u001B[0m\n\u001B[0;31m    .start(target_data_loc)\u001B[0m\n\u001B[0m    ^\u001B[0m\n\u001B[0;31mIndentationError\u001B[0m\u001B[0;31m:\u001B[0m unexpected indent\n"
       ],
       "type": "baseError"
      }
     },
     "output_type": "display_data"
    }
   ],
   "source": [
    "%Python\n",
    "\n",
    "df=(spark.readStream.format(\"cloudFiles\") \\\n",
    "  .option(\"cloudFiles.format\", \"csv\") \\\n",
    "  .option(\"cloudFiles.inferColumnTypes\", \"true\") \\\n",
    "  .option(\"cloudFiles.schemaLocation\", schema_loc) \\\n",
    "  .option(\"cloudFiles.schemaEvolutionMode\", \"addNewColumns\") \\\n",
    "  .load(source_data_loc) \\\n",
    "  )\n",
    "\n",
    "#we might need to change this to trigger(once=true) to trigger only new files rather than relooking at all files\n",
    "df.writeStream \\\n",
    "  .format(\"delta\") \\\n",
    "  .option(\"mergeSchema\", \"true\") \\\n",
    "  .option(\"checkpointLocation\", checkpoints_loc) \\\n",
    "  .outputMode(\"append\") \\\n",
    "  .trigger(availableNow=True) \\\n",
    "  .start(target_data_loc)"
   ]
  }
 ],
 "metadata": {
  "application/vnd.databricks.v1+notebook": {
   "dashboards": [],
   "environmentMetadata": null,
   "language": "python",
   "notebookMetadata": {
    "mostRecentlyExecutedCommandWithImplicitDF": {
     "commandId": 3309121777485545,
     "dataframes": [
      "_sqldf"
     ]
    },
    "pythonIndentUnit": 4
   },
   "notebookName": "2. Bronze Fact Pipeline",
   "widgets": {}
  }
 },
 "nbformat": 4,
 "nbformat_minor": 0
}
